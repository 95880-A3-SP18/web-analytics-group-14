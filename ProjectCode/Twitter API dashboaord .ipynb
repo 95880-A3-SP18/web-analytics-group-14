{
 "cells": [
  {
   "cell_type": "code",
   "execution_count": 123,
   "metadata": {},
   "outputs": [],
   "source": [
    "import tweepy\n",
    "import pandas as pd\n",
    "import matplotlib.pyplot as plt\n",
    "% matplotlib inline"
   ]
  },
  {
   "cell_type": "code",
   "execution_count": 124,
   "metadata": {},
   "outputs": [
    {
     "name": "stderr",
     "output_type": "stream",
     "text": [
      "C:\\ProgramData\\Anaconda3\\lib\\site-packages\\IPython\\core\\interactiveshell.py:2862: FutureWarning: \n",
      "mpl_style had been deprecated and will be removed in a future version.\n",
      "Use `matplotlib.pyplot.style.use` instead.\n",
      "\n",
      "  exec(code_obj, self.user_global_ns, self.user_ns)\n"
     ]
    }
   ],
   "source": [
    "pd.set_option('display.mpl_style', 'default')"
   ]
  },
  {
   "cell_type": "code",
   "execution_count": 125,
   "metadata": {},
   "outputs": [],
   "source": [
    "consumerKey = 'WMfhG48E6yDyaPDsHNpZRgPb3'\n",
    "consumerSecret = 'c8c1WInH0mbajnG462cQg3bL4iipn2WEkuRpnPCQkR9LQbASYx'\n",
    "\n",
    "#Use tweepy.OAuthHandler to create an authentication using the given key and secret\n",
    "\n",
    "auth = tweepy.OAuthHandler(consumer_key=consumerKey, \n",
    "    consumer_secret=consumerSecret)\n",
    "\n",
    "#Connect to the Twitter API using the authentication\n",
    "api = tweepy.API(auth, wait_on_rate_limit=True)"
   ]
  },
  {
   "cell_type": "code",
   "execution_count": 126,
   "metadata": {},
   "outputs": [
    {
     "name": "stdout",
     "output_type": "stream",
     "text": [
      "Wall time: 1 ms\n"
     ]
    }
   ],
   "source": [
    "%time\n",
    "results = []\n",
    "for tweet in tweepy.Cursor(api.search, q='%23Bitcoin').items(5000):\n",
    "    results.append(tweet)\n",
    "for tweet in tweepy.Cursor(api.search, q='%23Ripple').items(5000):\n",
    "    results.append(tweet)\n",
    "for tweet in tweepy.Cursor(api.search, q='%23Litecoin').items(5000):\n",
    "    results.append(tweet)\n",
    "for tweet in tweepy.Cursor(api.search, q='%23Crypto').items(5000):\n",
    "    results.append(tweet)"
   ]
  },
  {
   "cell_type": "code",
   "execution_count": 128,
   "metadata": {},
   "outputs": [],
   "source": [
    "def toDataFrame(tweets):\n",
    "\n",
    "    DataSet = pd.DataFrame()\n",
    "\n",
    "    DataSet['tweetID'] = [tweet.id for tweet in tweets]\n",
    "    DataSet['tweetText'] = [tweet.text for tweet in tweets]\n",
    "    DataSet['tweetRetweetCt'] = [tweet.retweet_count for tweet in tweets]\n",
    "    DataSet['tweetFavoriteCt'] = [tweet.favorite_count for tweet in tweets]\n",
    "    DataSet['tweetSource'] = [tweet.source for tweet in tweets]\n",
    "    DataSet['tweetCreated'] = [tweet.created_at for tweet in tweets]\n",
    "    DataSet['userID'] = [tweet.user.id for tweet in tweets]\n",
    "    DataSet['userScreen'] = [tweet.user.screen_name for tweet in tweets]\n",
    "    DataSet['userName'] = [tweet.user.name for tweet in tweets]\n",
    "    DataSet['userCreateDt'] = [tweet.user.created_at for tweet in tweets]\n",
    "    DataSet['userDesc'] = [tweet.user.description for tweet in tweets]\n",
    "    DataSet['userFollowerCt'] = [tweet.user.followers_count for tweet in tweets]\n",
    "    DataSet['userFriendsCt'] = [tweet.user.friends_count for tweet in tweets]\n",
    "    DataSet['userLocation'] = [tweet.user.location for tweet in tweets]\n",
    "    DataSet['userTimezone'] = [tweet.user.time_zone for tweet in tweets]\n",
    "    DataSet['coordinates'] = [tweet.coordinates for tweet in tweets]\n",
    "\n",
    "    return DataSet\n",
    "\n",
    "#Pass the tweets list to the above function to create a DataFrame\n",
    "DataSet = toDataFrame(results)\n",
    "# creating a CSV file \n",
    "DataSet.to_csv('./crypto_tweetsCSV', sep='\\t', index=False)"
   ]
  },
  {
   "cell_type": "code",
   "execution_count": 141,
   "metadata": {},
   "outputs": [],
   "source": [
    "DataSetLocation = DataSet[DataSet.userLocation.notnull()]\n",
    "DataSetLikes = DataSet[DataSet.tweetFavoriteCt.notnull()]\n",
    "DataSetRetweets = DataSet[DataSet.tweetRetweetCt.notnull()]\n",
    "DataSetCoordinates = DataSet[DataSet.coordinates.notnull()]\n",
    "# top 10 user locations\n",
    "user_location = DataSetLocation['userLocation'].value_counts()[:10]"
   ]
  },
  {
   "cell_type": "code",
   "execution_count": 135,
   "metadata": {},
   "outputs": [
    {
     "data": {
      "text/plain": [
       "Text(0.5,1,'Top 10 areas generating tweets about #Bitcoin, #Ripple, #Litecoin, #Crypto')"
      ]
     },
     "execution_count": 135,
     "metadata": {},
     "output_type": "execute_result"
    },
    {
     "data": {
      "image/png": "[encoded data removed]",
      "text/plain": [
       "<matplotlib.figure.Figure at 0x2345c529ef0>"
      ]
     },
     "metadata": {},
     "output_type": "display_data"
    }
   ],
   "source": [
    "plt.rcParams['figure.figsize'] = (10, 5)\n",
    "user_location.plot(kind='bar')\n",
    "plt.xlabel('User Location')\n",
    "plt.ylabel('Tweet Count')\n",
    "plt.title('Top 10 areas generating tweets about #Bitcoin, #Ripple, #Litecoin, #Crypto')"
   ]
  },
  {
   "cell_type": "code",
   "execution_count": 131,
   "metadata": {},
   "outputs": [],
   "source": [
    "# topten popular bitcoin tweets\n",
    "# Top10DataSetLikes=\n",
    "coor_frame=DataSet['coordinates'].to_frame()"
   ]
  },
  {
   "cell_type": "code",
   "execution_count": 132,
   "metadata": {
    "scrolled": true
   },
   "outputs": [],
   "source": [
    "import folium\n",
    "from folium.plugins import HeatMap\n",
    "from folium import plugins\n",
    "from IPython.display import HTML, display\n",
    "# Build the basic map \n",
    "cryptoheatmp = folium.Map(location=(40.447354,-79.943493), zoom_start=2)\n",
    "\n",
    "y=[i for i in DataSetCoordinates['coordinates']]\n",
    "z=[i for i,j in enumerate(y)]\n",
    "\n",
    "coor_list=[]\n",
    "for i in range(len(z)):\n",
    "    x=y[i]['coordinates']\n",
    "    coor_list.append(x)\n",
    "\n",
    "# Same as before, add the points from the tweets that are geolocated\n",
    "# cryptoheatmp.add_child(plugins.HeatMap([(coor_list[j][1],\n",
    "#                                                coor_list[j][0]) \n",
    "#                                                for j in range(len(coor_list))]))\n",
    "HeatMap([(coor_list[j][1],coor_list[j][0]) for j in range(len(coor_list))]).add_to(cryptoheatmp)\n",
    "# Save the map to the local directory\n",
    "cryptoheatmp.save(\"./crypto_heatmap.html\")\n"
   ]
  },
  {
   "cell_type": "code",
   "execution_count": 133,
   "metadata": {},
   "outputs": [
    {
     "data": {
      "text/html": [
       "<iframe width='100%'height='450' src=\"./crypto_heatmap.html\"></iframe>"
      ],
      "text/plain": [
       "<IPython.core.display.HTML object>"
      ]
     },
     "metadata": {},
     "output_type": "display_data"
    }
   ],
   "source": [
    "%%HTML\n",
    "<iframe width='100%'height='450' src=\"./crypto_heatmap.html\"></iframe>"
   ]
  },
  {
   "cell_type": "code",
   "execution_count": 166,
   "metadata": {},
   "outputs": [
    {
     "data": {
      "text/html": [
       "<style  type=\"text/css\" >\n",
       "</style>  \n",
       "<table id=\"T_0e763398_1fea_11e8_bf97_c8ff289a8d83\" > \n",
       "<thead>    <tr> \n",
       "        <th class=\"blank level0\" ></th> \n",
       "        <th class=\"col_heading level0 col0\" >userName</th> \n",
       "        <th class=\"col_heading level0 col1\" >tweetText</th> \n",
       "        <th class=\"col_heading level0 col2\" >tweetRetweetCt</th> \n",
       "    </tr></thead> \n",
       "<tbody>    <tr> \n",
       "        <th id=\"T_0e763398_1fea_11e8_bf97_c8ff289a8d83level0_row0\" class=\"row_heading level0 row0\" >0</th> \n",
       "        <td id=\"T_0e763398_1fea_11e8_bf97_c8ff289a8d83row0_col0\" class=\"data row0 col0\" >Chermen Dzboy</td> \n",
       "        <td id=\"T_0e763398_1fea_11e8_bf97_c8ff289a8d83row0_col1\" class=\"data row0 col1\" >RT @CharlieShrem: Time to buy #bitcoin https://t.co/54NeolC08I</td> \n",
       "        <td id=\"T_0e763398_1fea_11e8_bf97_c8ff289a8d83row0_col2\" class=\"data row0 col2\" >8722</td> \n",
       "    </tr>    <tr> \n",
       "        <th id=\"T_0e763398_1fea_11e8_bf97_c8ff289a8d83level0_row1\" class=\"row_heading level0 row1\" >1</th> \n",
       "        <td id=\"T_0e763398_1fea_11e8_bf97_c8ff289a8d83row1_col0\" class=\"data row1 col0\" >Sebastian Sutherland</td> \n",
       "        <td id=\"T_0e763398_1fea_11e8_bf97_c8ff289a8d83row1_col1\" class=\"data row1 col1\" >RT @earthtokens: VIDEO: #EARTH #Token &amp; the #Natural #Asset #Exchange introduction https://t.co/yQQYX3h7rn #ico #ethereum #bitcoin #crypto…</td> \n",
       "        <td id=\"T_0e763398_1fea_11e8_bf97_c8ff289a8d83row1_col2\" class=\"data row1 col2\" >4631</td> \n",
       "    </tr>    <tr> \n",
       "        <th id=\"T_0e763398_1fea_11e8_bf97_c8ff289a8d83level0_row2\" class=\"row_heading level0 row2\" >2</th> \n",
       "        <td id=\"T_0e763398_1fea_11e8_bf97_c8ff289a8d83row2_col0\" class=\"data row2 col0\" >Adam MacDonald</td> \n",
       "        <td id=\"T_0e763398_1fea_11e8_bf97_c8ff289a8d83row2_col1\" class=\"data row2 col1\" >RT @earthtokens: VIDEO: #EARTH #Token &amp; the #Natural #Asset #Exchange introduction https://t.co/yQQYX3h7rn #ico #ethereum #bitcoin #crypto…</td> \n",
       "        <td id=\"T_0e763398_1fea_11e8_bf97_c8ff289a8d83row2_col2\" class=\"data row2 col2\" >4631</td> \n",
       "    </tr>    <tr> \n",
       "        <th id=\"T_0e763398_1fea_11e8_bf97_c8ff289a8d83level0_row3\" class=\"row_heading level0 row3\" >3</th> \n",
       "        <td id=\"T_0e763398_1fea_11e8_bf97_c8ff289a8d83row3_col0\" class=\"data row3 col0\" >Jake Alsop</td> \n",
       "        <td id=\"T_0e763398_1fea_11e8_bf97_c8ff289a8d83row3_col1\" class=\"data row3 col1\" >RT @earthtokens: VIDEO: #EARTH #Token &amp; the #Natural #Asset #Exchange introduction https://t.co/yQQYX3h7rn #ico #ethereum #bitcoin #crypto…</td> \n",
       "        <td id=\"T_0e763398_1fea_11e8_bf97_c8ff289a8d83row3_col2\" class=\"data row3 col2\" >4631</td> \n",
       "    </tr>    <tr> \n",
       "        <th id=\"T_0e763398_1fea_11e8_bf97_c8ff289a8d83level0_row4\" class=\"row_heading level0 row4\" >4</th> \n",
       "        <td id=\"T_0e763398_1fea_11e8_bf97_c8ff289a8d83row4_col0\" class=\"data row4 col0\" >Edward Henderson</td> \n",
       "        <td id=\"T_0e763398_1fea_11e8_bf97_c8ff289a8d83row4_col1\" class=\"data row4 col1\" >RT @earthtokens: VIDEO: #EARTH #Token &amp; the #Natural #Asset #Exchange introduction https://t.co/yQQYX3h7rn #ico #ethereum #bitcoin #crypto…</td> \n",
       "        <td id=\"T_0e763398_1fea_11e8_bf97_c8ff289a8d83row4_col2\" class=\"data row4 col2\" >4631</td> \n",
       "    </tr>    <tr> \n",
       "        <th id=\"T_0e763398_1fea_11e8_bf97_c8ff289a8d83level0_row5\" class=\"row_heading level0 row5\" >5</th> \n",
       "        <td id=\"T_0e763398_1fea_11e8_bf97_c8ff289a8d83row5_col0\" class=\"data row5 col0\" >Neil Young</td> \n",
       "        <td id=\"T_0e763398_1fea_11e8_bf97_c8ff289a8d83row5_col1\" class=\"data row5 col1\" >RT @earthtokens: VIDEO: #EARTH #Token &amp; the #Natural #Asset #Exchange introduction https://t.co/yQQYX3h7rn #ico #ethereum #bitcoin #crypto…</td> \n",
       "        <td id=\"T_0e763398_1fea_11e8_bf97_c8ff289a8d83row5_col2\" class=\"data row5 col2\" >4631</td> \n",
       "    </tr>    <tr> \n",
       "        <th id=\"T_0e763398_1fea_11e8_bf97_c8ff289a8d83level0_row6\" class=\"row_heading level0 row6\" >6</th> \n",
       "        <td id=\"T_0e763398_1fea_11e8_bf97_c8ff289a8d83row6_col0\" class=\"data row6 col0\" >Lavern Pantoja</td> \n",
       "        <td id=\"T_0e763398_1fea_11e8_bf97_c8ff289a8d83row6_col1\" class=\"data row6 col1\" >RT @earthtokens: VIDEO: #EARTH #Token &amp; the #Natural #Asset #Exchange introduction https://t.co/yQQYX3h7rn #ico #ethereum #bitcoin #crypto…</td> \n",
       "        <td id=\"T_0e763398_1fea_11e8_bf97_c8ff289a8d83row6_col2\" class=\"data row6 col2\" >4631</td> \n",
       "    </tr>    <tr> \n",
       "        <th id=\"T_0e763398_1fea_11e8_bf97_c8ff289a8d83level0_row7\" class=\"row_heading level0 row7\" >7</th> \n",
       "        <td id=\"T_0e763398_1fea_11e8_bf97_c8ff289a8d83row7_col0\" class=\"data row7 col0\" >Julian Dickens</td> \n",
       "        <td id=\"T_0e763398_1fea_11e8_bf97_c8ff289a8d83row7_col1\" class=\"data row7 col1\" >RT @earthtokens: VIDEO: #EARTH #Token &amp; the #Natural #Asset #Exchange introduction https://t.co/yQQYX3h7rn #ico #ethereum #bitcoin #crypto…</td> \n",
       "        <td id=\"T_0e763398_1fea_11e8_bf97_c8ff289a8d83row7_col2\" class=\"data row7 col2\" >4631</td> \n",
       "    </tr>    <tr> \n",
       "        <th id=\"T_0e763398_1fea_11e8_bf97_c8ff289a8d83level0_row8\" class=\"row_heading level0 row8\" >8</th> \n",
       "        <td id=\"T_0e763398_1fea_11e8_bf97_c8ff289a8d83row8_col0\" class=\"data row8 col0\" >Simon Bailey</td> \n",
       "        <td id=\"T_0e763398_1fea_11e8_bf97_c8ff289a8d83row8_col1\" class=\"data row8 col1\" >RT @earthtokens: VIDEO: #EARTH #Token &amp; the #Natural #Asset #Exchange introduction https://t.co/yQQYX3h7rn #ico #ethereum #bitcoin #crypto…</td> \n",
       "        <td id=\"T_0e763398_1fea_11e8_bf97_c8ff289a8d83row8_col2\" class=\"data row8 col2\" >4631</td> \n",
       "    </tr>    <tr> \n",
       "        <th id=\"T_0e763398_1fea_11e8_bf97_c8ff289a8d83level0_row9\" class=\"row_heading level0 row9\" >9</th> \n",
       "        <td id=\"T_0e763398_1fea_11e8_bf97_c8ff289a8d83row9_col0\" class=\"data row9 col0\" >John Skinner</td> \n",
       "        <td id=\"T_0e763398_1fea_11e8_bf97_c8ff289a8d83row9_col1\" class=\"data row9 col1\" >RT @earthtokens: VIDEO: #EARTH #Token &amp; the #Natural #Asset #Exchange introduction https://t.co/yQQYX3h7rn #ico #ethereum #bitcoin #crypto…</td> \n",
       "        <td id=\"T_0e763398_1fea_11e8_bf97_c8ff289a8d83row9_col2\" class=\"data row9 col2\" >4631</td> \n",
       "    </tr></tbody> \n",
       "</table> "
      ],
      "text/plain": [
       "<pandas.io.formats.style.Styler at 0x2345da4b9e8>"
      ]
     },
     "metadata": {},
     "output_type": "display_data"
    }
   ],
   "source": [
    "# most talked about tweets \n",
    "user_retweets=DataSetRetweets.sort_values(by=['tweetRetweetCt'],ascending=False)[:10]\n",
    "display((user_retweets[['userName','tweetText','tweetRetweetCt']].reset_index(drop=True)).style)"
   ]
  },
  {
   "cell_type": "code",
   "execution_count": null,
   "metadata": {
    "collapsed": true
   },
   "outputs": [],
   "source": []
  }
 ],
 "metadata": {
  "kernelspec": {
   "display_name": "Python 3",
   "language": "python",
   "name": "python3"
  },
  "language_info": {
   "codemirror_mode": {
    "name": "ipython",
    "version": 3
   },
   "file_extension": ".py",
   "mimetype": "text/x-python",
   "name": "python",
   "nbconvert_exporter": "python",
   "pygments_lexer": "ipython3",
   "version": "3.6.3"
  }
 },
 "nbformat": 4,
 "nbformat_minor": 2
}
